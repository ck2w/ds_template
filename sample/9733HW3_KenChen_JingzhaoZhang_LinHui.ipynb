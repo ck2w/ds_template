{
 "cells": [
  {
   "cell_type": "code",
   "execution_count": 2,
   "metadata": {
    "ExecuteTime": {
     "end_time": "2021-09-27T04:35:38.374666Z",
     "start_time": "2021-09-27T04:35:36.453417Z"
    }
   },
   "outputs": [],
   "source": [
    "import numpy as np\n",
    "import pandas as pd\n",
    "import matplotlib.pyplot as plt\n",
    "import seaborn as sns\n",
    "sns.set()\n",
    "%matplotlib inline\n",
    "\n",
    "import researchpy as rp\n",
    "import scipy.stats as stats\n",
    "\n",
    "from sklearn.impute import SimpleImputer\n",
    "from sklearn.pipeline import Pipeline\n",
    "from sklearn.preprocessing import StandardScaler\n",
    "from sklearn.preprocessing import PolynomialFeatures\n",
    "from sklearn.preprocessing import OneHotEncoder\n",
    "from sklearn.compose import ColumnTransformer\n",
    "\n",
    "from sklearn.model_selection import train_test_split\n",
    "from sklearn.model_selection import cross_val_score\n",
    "from sklearn.model_selection import cross_validate\n",
    "\n",
    "from sklearn.linear_model import LogisticRegression\n",
    "\n",
    "from sklearn.metrics import accuracy_score, plot_precision_recall_curve, plot_roc_curve\n",
    "\n",
    "import warnings\n",
    "warnings.filterwarnings('ignore')"
   ]
  },
  {
   "cell_type": "markdown",
   "metadata": {},
   "source": [
    "# Load data"
   ]
  },
  {
   "cell_type": "code",
   "execution_count": 3,
   "metadata": {
    "ExecuteTime": {
     "end_time": "2021-09-27T04:35:45.441240Z",
     "start_time": "2021-09-27T04:35:38.376647Z"
    }
   },
   "outputs": [
    {
     "data": {
      "text/html": [
       "<div>\n",
       "<style scoped>\n",
       "    .dataframe tbody tr th:only-of-type {\n",
       "        vertical-align: middle;\n",
       "    }\n",
       "\n",
       "    .dataframe tbody tr th {\n",
       "        vertical-align: top;\n",
       "    }\n",
       "\n",
       "    .dataframe thead th {\n",
       "        text-align: right;\n",
       "    }\n",
       "</style>\n",
       "<table border=\"1\" class=\"dataframe\">\n",
       "  <thead>\n",
       "    <tr style=\"text-align: right;\">\n",
       "      <th></th>\n",
       "      <th>churn_flag</th>\n",
       "      <th>gender</th>\n",
       "      <th>marrital</th>\n",
       "      <th>age</th>\n",
       "      <th>home_owner</th>\n",
       "      <th>num_cont</th>\n",
       "      <th>tot_bill</th>\n",
       "      <th>tot_call</th>\n",
       "      <th>tot_bal</th>\n",
       "      <th>fortune</th>\n",
       "      <th>tot_bytes</th>\n",
       "      <th>tot_air</th>\n",
       "      <th>num_out</th>\n",
       "      <th>google_bytes</th>\n",
       "      <th>google_air</th>\n",
       "      <th>yahoo_bytes</th>\n",
       "      <th>yahoo_air</th>\n",
       "    </tr>\n",
       "    <tr>\n",
       "      <th>cust_id</th>\n",
       "      <th></th>\n",
       "      <th></th>\n",
       "      <th></th>\n",
       "      <th></th>\n",
       "      <th></th>\n",
       "      <th></th>\n",
       "      <th></th>\n",
       "      <th></th>\n",
       "      <th></th>\n",
       "      <th></th>\n",
       "      <th></th>\n",
       "      <th></th>\n",
       "      <th></th>\n",
       "      <th></th>\n",
       "      <th></th>\n",
       "      <th></th>\n",
       "      <th></th>\n",
       "    </tr>\n",
       "  </thead>\n",
       "  <tbody>\n",
       "    <tr>\n",
       "      <th>c000001</th>\n",
       "      <td>1</td>\n",
       "      <td>Male</td>\n",
       "      <td>divorced</td>\n",
       "      <td>49.0</td>\n",
       "      <td>0</td>\n",
       "      <td>0</td>\n",
       "      <td>134.130817</td>\n",
       "      <td>53</td>\n",
       "      <td>4973.07</td>\n",
       "      <td>Mass</td>\n",
       "      <td>931.28</td>\n",
       "      <td>3046.90</td>\n",
       "      <td>194</td>\n",
       "      <td>320.52</td>\n",
       "      <td>1270.23</td>\n",
       "      <td>194.04</td>\n",
       "      <td>710.45</td>\n",
       "    </tr>\n",
       "    <tr>\n",
       "      <th>c000002</th>\n",
       "      <td>1</td>\n",
       "      <td>Male</td>\n",
       "      <td>divorced</td>\n",
       "      <td>33.0</td>\n",
       "      <td>0</td>\n",
       "      <td>1</td>\n",
       "      <td>121.247165</td>\n",
       "      <td>68</td>\n",
       "      <td>4528.01</td>\n",
       "      <td>Low</td>\n",
       "      <td>580.62</td>\n",
       "      <td>3549.74</td>\n",
       "      <td>331</td>\n",
       "      <td>491.50</td>\n",
       "      <td>1484.64</td>\n",
       "      <td>32.14</td>\n",
       "      <td>823.42</td>\n",
       "    </tr>\n",
       "    <tr>\n",
       "      <th>c000003</th>\n",
       "      <td>1</td>\n",
       "      <td>Female</td>\n",
       "      <td>divorced</td>\n",
       "      <td>38.0</td>\n",
       "      <td>0</td>\n",
       "      <td>1</td>\n",
       "      <td>164.144198</td>\n",
       "      <td>38</td>\n",
       "      <td>5565.09</td>\n",
       "      <td>Affluent</td>\n",
       "      <td>754.07</td>\n",
       "      <td>2996.59</td>\n",
       "      <td>139</td>\n",
       "      <td>283.24</td>\n",
       "      <td>764.69</td>\n",
       "      <td>182.07</td>\n",
       "      <td>718.69</td>\n",
       "    </tr>\n",
       "    <tr>\n",
       "      <th>c000004</th>\n",
       "      <td>1</td>\n",
       "      <td>Female</td>\n",
       "      <td>married</td>\n",
       "      <td>26.0</td>\n",
       "      <td>1</td>\n",
       "      <td>1</td>\n",
       "      <td>177.394137</td>\n",
       "      <td>80</td>\n",
       "      <td>5370.00</td>\n",
       "      <td>Affluent</td>\n",
       "      <td>384.81</td>\n",
       "      <td>2443.78</td>\n",
       "      <td>98</td>\n",
       "      <td>384.81</td>\n",
       "      <td>721.44</td>\n",
       "      <td>145.09</td>\n",
       "      <td>742.61</td>\n",
       "    </tr>\n",
       "    <tr>\n",
       "      <th>c000005</th>\n",
       "      <td>0</td>\n",
       "      <td>Male</td>\n",
       "      <td>single</td>\n",
       "      <td>55.0</td>\n",
       "      <td>0</td>\n",
       "      <td>2</td>\n",
       "      <td>155.183919</td>\n",
       "      <td>50</td>\n",
       "      <td>5101.25</td>\n",
       "      <td>Affluent</td>\n",
       "      <td>15.30</td>\n",
       "      <td>2576.98</td>\n",
       "      <td>294</td>\n",
       "      <td>15.30</td>\n",
       "      <td>774.92</td>\n",
       "      <td>15.30</td>\n",
       "      <td>710.88</td>\n",
       "    </tr>\n",
       "    <tr>\n",
       "      <th>...</th>\n",
       "      <td>...</td>\n",
       "      <td>...</td>\n",
       "      <td>...</td>\n",
       "      <td>...</td>\n",
       "      <td>...</td>\n",
       "      <td>...</td>\n",
       "      <td>...</td>\n",
       "      <td>...</td>\n",
       "      <td>...</td>\n",
       "      <td>...</td>\n",
       "      <td>...</td>\n",
       "      <td>...</td>\n",
       "      <td>...</td>\n",
       "      <td>...</td>\n",
       "      <td>...</td>\n",
       "      <td>...</td>\n",
       "      <td>...</td>\n",
       "    </tr>\n",
       "    <tr>\n",
       "      <th>c039996</th>\n",
       "      <td>1</td>\n",
       "      <td>Female</td>\n",
       "      <td>divorced</td>\n",
       "      <td>53.0</td>\n",
       "      <td>1</td>\n",
       "      <td>2</td>\n",
       "      <td>NaN</td>\n",
       "      <td>106</td>\n",
       "      <td>5996.23</td>\n",
       "      <td>Low</td>\n",
       "      <td>2898.28</td>\n",
       "      <td>3751.69</td>\n",
       "      <td>109</td>\n",
       "      <td>384.53</td>\n",
       "      <td>393.69</td>\n",
       "      <td>213.12</td>\n",
       "      <td>423.75</td>\n",
       "    </tr>\n",
       "    <tr>\n",
       "      <th>c039997</th>\n",
       "      <td>1</td>\n",
       "      <td>Female</td>\n",
       "      <td>married</td>\n",
       "      <td>54.0</td>\n",
       "      <td>0</td>\n",
       "      <td>3</td>\n",
       "      <td>159.827432</td>\n",
       "      <td>69</td>\n",
       "      <td>5945.75</td>\n",
       "      <td>NaN</td>\n",
       "      <td>2201.12</td>\n",
       "      <td>2909.64</td>\n",
       "      <td>96</td>\n",
       "      <td>334.66</td>\n",
       "      <td>932.63</td>\n",
       "      <td>256.22</td>\n",
       "      <td>495.93</td>\n",
       "    </tr>\n",
       "    <tr>\n",
       "      <th>c039998</th>\n",
       "      <td>1</td>\n",
       "      <td>Male</td>\n",
       "      <td>single</td>\n",
       "      <td>65.0</td>\n",
       "      <td>1</td>\n",
       "      <td>2</td>\n",
       "      <td>60.581187</td>\n",
       "      <td>43</td>\n",
       "      <td>6073.12</td>\n",
       "      <td>Low</td>\n",
       "      <td>1609.46</td>\n",
       "      <td>2767.99</td>\n",
       "      <td>119</td>\n",
       "      <td>394.90</td>\n",
       "      <td>943.53</td>\n",
       "      <td>376.23</td>\n",
       "      <td>611.39</td>\n",
       "    </tr>\n",
       "    <tr>\n",
       "      <th>c039999</th>\n",
       "      <td>0</td>\n",
       "      <td>Male</td>\n",
       "      <td>divorced</td>\n",
       "      <td>53.0</td>\n",
       "      <td>1</td>\n",
       "      <td>2</td>\n",
       "      <td>75.632048</td>\n",
       "      <td>109</td>\n",
       "      <td>5197.32</td>\n",
       "      <td>Low</td>\n",
       "      <td>1904.39</td>\n",
       "      <td>2581.07</td>\n",
       "      <td>135</td>\n",
       "      <td>374.76</td>\n",
       "      <td>1127.75</td>\n",
       "      <td>498.37</td>\n",
       "      <td>747.71</td>\n",
       "    </tr>\n",
       "    <tr>\n",
       "      <th>c040000</th>\n",
       "      <td>0</td>\n",
       "      <td>Male</td>\n",
       "      <td>divorced</td>\n",
       "      <td>44.0</td>\n",
       "      <td>0</td>\n",
       "      <td>2</td>\n",
       "      <td>111.987342</td>\n",
       "      <td>113</td>\n",
       "      <td>4692.09</td>\n",
       "      <td>Affluent</td>\n",
       "      <td>1832.23</td>\n",
       "      <td>2769.28</td>\n",
       "      <td>14</td>\n",
       "      <td>402.21</td>\n",
       "      <td>413.37</td>\n",
       "      <td>140.37</td>\n",
       "      <td>661.79</td>\n",
       "    </tr>\n",
       "  </tbody>\n",
       "</table>\n",
       "<p>40000 rows × 17 columns</p>\n",
       "</div>"
      ],
      "text/plain": [
       "         churn_flag  gender  marrital   age  home_owner  num_cont    tot_bill  \\\n",
       "cust_id                                                                         \n",
       "c000001           1    Male  divorced  49.0           0         0  134.130817   \n",
       "c000002           1    Male  divorced  33.0           0         1  121.247165   \n",
       "c000003           1  Female  divorced  38.0           0         1  164.144198   \n",
       "c000004           1  Female   married  26.0           1         1  177.394137   \n",
       "c000005           0    Male    single  55.0           0         2  155.183919   \n",
       "...             ...     ...       ...   ...         ...       ...         ...   \n",
       "c039996           1  Female  divorced  53.0           1         2         NaN   \n",
       "c039997           1  Female   married  54.0           0         3  159.827432   \n",
       "c039998           1    Male    single  65.0           1         2   60.581187   \n",
       "c039999           0    Male  divorced  53.0           1         2   75.632048   \n",
       "c040000           0    Male  divorced  44.0           0         2  111.987342   \n",
       "\n",
       "         tot_call  tot_bal   fortune  tot_bytes  tot_air  num_out  \\\n",
       "cust_id                                                             \n",
       "c000001        53  4973.07      Mass     931.28  3046.90      194   \n",
       "c000002        68  4528.01       Low     580.62  3549.74      331   \n",
       "c000003        38  5565.09  Affluent     754.07  2996.59      139   \n",
       "c000004        80  5370.00  Affluent     384.81  2443.78       98   \n",
       "c000005        50  5101.25  Affluent      15.30  2576.98      294   \n",
       "...           ...      ...       ...        ...      ...      ...   \n",
       "c039996       106  5996.23       Low    2898.28  3751.69      109   \n",
       "c039997        69  5945.75       NaN    2201.12  2909.64       96   \n",
       "c039998        43  6073.12       Low    1609.46  2767.99      119   \n",
       "c039999       109  5197.32       Low    1904.39  2581.07      135   \n",
       "c040000       113  4692.09  Affluent    1832.23  2769.28       14   \n",
       "\n",
       "         google_bytes  google_air  yahoo_bytes  yahoo_air  \n",
       "cust_id                                                    \n",
       "c000001        320.52     1270.23       194.04     710.45  \n",
       "c000002        491.50     1484.64        32.14     823.42  \n",
       "c000003        283.24      764.69       182.07     718.69  \n",
       "c000004        384.81      721.44       145.09     742.61  \n",
       "c000005         15.30      774.92        15.30     710.88  \n",
       "...               ...         ...          ...        ...  \n",
       "c039996        384.53      393.69       213.12     423.75  \n",
       "c039997        334.66      932.63       256.22     495.93  \n",
       "c039998        394.90      943.53       376.23     611.39  \n",
       "c039999        374.76     1127.75       498.37     747.71  \n",
       "c040000        402.21      413.37       140.37     661.79  \n",
       "\n",
       "[40000 rows x 17 columns]"
      ]
     },
     "execution_count": 3,
     "metadata": {},
     "output_type": "execute_result"
    }
   ],
   "source": [
    "data = pd.read_excel('Mocked_Customer_Data_With_Missing.xlsx', index_col=0)\n",
    "y_label = 'churn_flag'\n",
    "\n",
    "data"
   ]
  },
  {
   "cell_type": "markdown",
   "metadata": {},
   "source": [
    "# Check the data completeness, and identify numeric vs categorical variables"
   ]
  },
  {
   "cell_type": "code",
   "execution_count": 4,
   "metadata": {
    "ExecuteTime": {
     "end_time": "2021-09-27T04:35:45.772240Z",
     "start_time": "2021-09-27T04:35:45.443252Z"
    }
   },
   "outputs": [
    {
     "data": {
      "text/html": [
       "<style  type=\"text/css\" >\n",
       "</style><table id=\"T_87219_\" ><thead>    <tr>        <th class=\"blank level0\" ></th>        <th class=\"col_heading level0 col0\" >Missing value percent</th>    </tr></thead><tbody>\n",
       "                <tr>\n",
       "                        <th id=\"T_87219_level0_row0\" class=\"row_heading level0 row0\" >churn_flag</th>\n",
       "                        <td id=\"T_87219_row0_col0\" class=\"data row0 col0\" >0.00%</td>\n",
       "            </tr>\n",
       "            <tr>\n",
       "                        <th id=\"T_87219_level0_row1\" class=\"row_heading level0 row1\" >gender</th>\n",
       "                        <td id=\"T_87219_row1_col0\" class=\"data row1 col0\" >0.00%</td>\n",
       "            </tr>\n",
       "            <tr>\n",
       "                        <th id=\"T_87219_level0_row2\" class=\"row_heading level0 row2\" >marrital</th>\n",
       "                        <td id=\"T_87219_row2_col0\" class=\"data row2 col0\" >0.00%</td>\n",
       "            </tr>\n",
       "            <tr>\n",
       "                        <th id=\"T_87219_level0_row3\" class=\"row_heading level0 row3\" >age</th>\n",
       "                        <td id=\"T_87219_row3_col0\" class=\"data row3 col0\" >0.11%</td>\n",
       "            </tr>\n",
       "            <tr>\n",
       "                        <th id=\"T_87219_level0_row4\" class=\"row_heading level0 row4\" >home_owner</th>\n",
       "                        <td id=\"T_87219_row4_col0\" class=\"data row4 col0\" >0.00%</td>\n",
       "            </tr>\n",
       "            <tr>\n",
       "                        <th id=\"T_87219_level0_row5\" class=\"row_heading level0 row5\" >num_cont</th>\n",
       "                        <td id=\"T_87219_row5_col0\" class=\"data row5 col0\" >0.00%</td>\n",
       "            </tr>\n",
       "            <tr>\n",
       "                        <th id=\"T_87219_level0_row6\" class=\"row_heading level0 row6\" >tot_bill</th>\n",
       "                        <td id=\"T_87219_row6_col0\" class=\"data row6 col0\" >0.08%</td>\n",
       "            </tr>\n",
       "            <tr>\n",
       "                        <th id=\"T_87219_level0_row7\" class=\"row_heading level0 row7\" >tot_call</th>\n",
       "                        <td id=\"T_87219_row7_col0\" class=\"data row7 col0\" >0.00%</td>\n",
       "            </tr>\n",
       "            <tr>\n",
       "                        <th id=\"T_87219_level0_row8\" class=\"row_heading level0 row8\" >tot_bal</th>\n",
       "                        <td id=\"T_87219_row8_col0\" class=\"data row8 col0\" >0.00%</td>\n",
       "            </tr>\n",
       "            <tr>\n",
       "                        <th id=\"T_87219_level0_row9\" class=\"row_heading level0 row9\" >fortune</th>\n",
       "                        <td id=\"T_87219_row9_col0\" class=\"data row9 col0\" >0.07%</td>\n",
       "            </tr>\n",
       "            <tr>\n",
       "                        <th id=\"T_87219_level0_row10\" class=\"row_heading level0 row10\" >tot_bytes</th>\n",
       "                        <td id=\"T_87219_row10_col0\" class=\"data row10 col0\" >0.00%</td>\n",
       "            </tr>\n",
       "            <tr>\n",
       "                        <th id=\"T_87219_level0_row11\" class=\"row_heading level0 row11\" >tot_air</th>\n",
       "                        <td id=\"T_87219_row11_col0\" class=\"data row11 col0\" >0.00%</td>\n",
       "            </tr>\n",
       "            <tr>\n",
       "                        <th id=\"T_87219_level0_row12\" class=\"row_heading level0 row12\" >num_out</th>\n",
       "                        <td id=\"T_87219_row12_col0\" class=\"data row12 col0\" >0.00%</td>\n",
       "            </tr>\n",
       "            <tr>\n",
       "                        <th id=\"T_87219_level0_row13\" class=\"row_heading level0 row13\" >google_bytes</th>\n",
       "                        <td id=\"T_87219_row13_col0\" class=\"data row13 col0\" >0.00%</td>\n",
       "            </tr>\n",
       "            <tr>\n",
       "                        <th id=\"T_87219_level0_row14\" class=\"row_heading level0 row14\" >google_air</th>\n",
       "                        <td id=\"T_87219_row14_col0\" class=\"data row14 col0\" >0.00%</td>\n",
       "            </tr>\n",
       "            <tr>\n",
       "                        <th id=\"T_87219_level0_row15\" class=\"row_heading level0 row15\" >yahoo_bytes</th>\n",
       "                        <td id=\"T_87219_row15_col0\" class=\"data row15 col0\" >0.00%</td>\n",
       "            </tr>\n",
       "            <tr>\n",
       "                        <th id=\"T_87219_level0_row16\" class=\"row_heading level0 row16\" >yahoo_air</th>\n",
       "                        <td id=\"T_87219_row16_col0\" class=\"data row16 col0\" >0.00%</td>\n",
       "            </tr>\n",
       "    </tbody></table>"
      ],
      "text/plain": [
       "<pandas.io.formats.style.Styler at 0x17d038461c0>"
      ]
     },
     "execution_count": 4,
     "metadata": {},
     "output_type": "execute_result"
    },
    {
     "data": {
      "image/png": "[encoded data removed]",
      "text/plain": [
       "<Figure size 864x432 with 1 Axes>"
      ]
     },
     "metadata": {
      "needs_background": "light"
     },
     "output_type": "display_data"
    }
   ],
   "source": [
    "nan_percent = pd.isnull(data).sum(axis=0)/data.shape[0]\n",
    "\n",
    "plt.figure(figsize=(12,6))\n",
    "sns.barplot(x=nan_percent.index, y=nan_percent, palette='rocket')\n",
    "plt.xticks(rotation=45)\n",
    "plt.title('Percent of missing data')\n",
    "\n",
    "nan_percent.to_frame().rename(columns={0: 'Missing value percent'}).style.format(\"{:.2%}\")"
   ]
  },
  {
   "cell_type": "code",
   "execution_count": 5,
   "metadata": {
    "ExecuteTime": {
     "end_time": "2021-09-27T04:35:45.780241Z",
     "start_time": "2021-09-27T04:35:45.774244Z"
    }
   },
   "outputs": [
    {
     "name": "stdout",
     "output_type": "stream",
     "text": [
      "Categorical features: ['gender', 'marrital', 'fortune', 'home_owner']\n",
      "Numeric features: ['age', 'num_cont', 'tot_bill', 'tot_call', 'tot_bal', 'tot_bytes', 'tot_air', 'num_out', 'google_bytes', 'google_air', 'yahoo_bytes', 'yahoo_air']\n",
      "y_label: churn_flag\n"
     ]
    }
   ],
   "source": [
    "categorical_feature_mask = data.dtypes==object\n",
    "categorical_features = data.columns[categorical_feature_mask].tolist()\n",
    "for col in data.columns:\n",
    "    if data[col].value_counts().shape[0] == 2 and col not in categorical_features:\n",
    "        categorical_features.append(col)\n",
    "categorical_features.remove(y_label)\n",
    "\n",
    "numeric_feature_mask = data.dtypes!=object\n",
    "numeric_features = data.columns[numeric_feature_mask].tolist()\n",
    "numeric_features.remove(y_label)\n",
    "for feature in numeric_features:\n",
    "    if feature in categorical_features:\n",
    "        numeric_features.remove(feature)\n",
    "\n",
    "print('Categorical features:', categorical_features)\n",
    "print('Numeric features:', numeric_features)\n",
    "print('y_label:', y_label)"
   ]
  },
  {
   "cell_type": "markdown",
   "metadata": {},
   "source": [
    "# Plot histograms of “age” group by “churn”"
   ]
  },
  {
   "cell_type": "code",
   "execution_count": 6,
   "metadata": {
    "ExecuteTime": {
     "end_time": "2021-09-27T04:35:46.274429Z",
     "start_time": "2021-09-27T04:35:45.781242Z"
    }
   },
   "outputs": [
    {
     "data": {
      "text/plain": [
       "Text(0.5, 0.98, 'histograms of “age” group by “churn”')"
      ]
     },
     "execution_count": 6,
     "metadata": {},
     "output_type": "execute_result"
    },
    {
     "data": {
      "image/png": "[encoded data removed]",
      "text/plain": [
       "<Figure size 864x432 with 2 Axes>"
      ]
     },
     "metadata": {
      "needs_background": "light"
     },
     "output_type": "display_data"
    }
   ],
   "source": [
    "fig, ax = plt.subplots(figsize=(12, 6))\n",
    "data['age'].hist(by=data['churn_flag'], ax=ax)\n",
    "fig.suptitle('histograms of “age” group by “churn”')"
   ]
  },
  {
   "cell_type": "code",
   "execution_count": 7,
   "metadata": {},
   "outputs": [
    {
     "data": {
      "text/plain": [
       "<matplotlib.axes._subplots.AxesSubplot at 0x17d03f58a00>"
      ]
     },
     "execution_count": 7,
     "metadata": {},
     "output_type": "execute_result"
    },
    {
     "data": {
      "image/png": "[encoded data removed]",
      "text/plain": [
       "<Figure size 432x288 with 1 Axes>"
      ]
     },
     "metadata": {
      "needs_background": "light"
     },
     "output_type": "display_data"
    }
   ],
   "source": [
    "sns.histplot(data=data, x='age', hue='churn_flag', multiple='layer')"
   ]
  },
  {
   "cell_type": "markdown",
   "metadata": {},
   "source": [
    "# Conduct a t-test of “tot_bill” regarding “churn”"
   ]
  },
  {
   "cell_type": "code",
   "execution_count": 8,
   "metadata": {},
   "outputs": [],
   "source": [
    "summary, results = rp.ttest(group1=data['tot_bill'][data['churn_flag'] == 1], group1_name='churn',\n",
    "        group2=data['tot_bill'][data['churn_flag'] == 0], group2_name='not_churn')"
   ]
  },
  {
   "cell_type": "code",
   "execution_count": 9,
   "metadata": {},
   "outputs": [
    {
     "data": {
      "text/html": [
       "<div>\n",
       "<style scoped>\n",
       "    .dataframe tbody tr th:only-of-type {\n",
       "        vertical-align: middle;\n",
       "    }\n",
       "\n",
       "    .dataframe tbody tr th {\n",
       "        vertical-align: top;\n",
       "    }\n",
       "\n",
       "    .dataframe thead th {\n",
       "        text-align: right;\n",
       "    }\n",
       "</style>\n",
       "<table border=\"1\" class=\"dataframe\">\n",
       "  <thead>\n",
       "    <tr style=\"text-align: right;\">\n",
       "      <th></th>\n",
       "      <th>Variable</th>\n",
       "      <th>N</th>\n",
       "      <th>Mean</th>\n",
       "      <th>SD</th>\n",
       "      <th>SE</th>\n",
       "      <th>95% Conf.</th>\n",
       "      <th>Interval</th>\n",
       "    </tr>\n",
       "  </thead>\n",
       "  <tbody>\n",
       "    <tr>\n",
       "      <th>0</th>\n",
       "      <td>churn</td>\n",
       "      <td>20501.0</td>\n",
       "      <td>146.510381</td>\n",
       "      <td>24.584078</td>\n",
       "      <td>0.171698</td>\n",
       "      <td>146.173838</td>\n",
       "      <td>146.846924</td>\n",
       "    </tr>\n",
       "    <tr>\n",
       "      <th>1</th>\n",
       "      <td>not_churn</td>\n",
       "      <td>19466.0</td>\n",
       "      <td>102.313966</td>\n",
       "      <td>31.260903</td>\n",
       "      <td>0.224059</td>\n",
       "      <td>101.874791</td>\n",
       "      <td>102.753142</td>\n",
       "    </tr>\n",
       "    <tr>\n",
       "      <th>2</th>\n",
       "      <td>combined</td>\n",
       "      <td>39967.0</td>\n",
       "      <td>124.984437</td>\n",
       "      <td>35.692830</td>\n",
       "      <td>0.178538</td>\n",
       "      <td>124.634499</td>\n",
       "      <td>125.334375</td>\n",
       "    </tr>\n",
       "  </tbody>\n",
       "</table>\n",
       "</div>"
      ],
      "text/plain": [
       "    Variable        N        Mean         SD        SE   95% Conf.    Interval\n",
       "0      churn  20501.0  146.510381  24.584078  0.171698  146.173838  146.846924\n",
       "1  not_churn  19466.0  102.313966  31.260903  0.224059  101.874791  102.753142\n",
       "2   combined  39967.0  124.984437  35.692830  0.178538  124.634499  125.334375"
      ]
     },
     "execution_count": 9,
     "metadata": {},
     "output_type": "execute_result"
    }
   ],
   "source": [
    "summary"
   ]
  },
  {
   "cell_type": "code",
   "execution_count": 10,
   "metadata": {},
   "outputs": [
    {
     "data": {
      "text/html": [
       "<div>\n",
       "<style scoped>\n",
       "    .dataframe tbody tr th:only-of-type {\n",
       "        vertical-align: middle;\n",
       "    }\n",
       "\n",
       "    .dataframe tbody tr th {\n",
       "        vertical-align: top;\n",
       "    }\n",
       "\n",
       "    .dataframe thead th {\n",
       "        text-align: right;\n",
       "    }\n",
       "</style>\n",
       "<table border=\"1\" class=\"dataframe\">\n",
       "  <thead>\n",
       "    <tr style=\"text-align: right;\">\n",
       "      <th></th>\n",
       "      <th>Independent t-test</th>\n",
       "      <th>results</th>\n",
       "    </tr>\n",
       "  </thead>\n",
       "  <tbody>\n",
       "    <tr>\n",
       "      <th>0</th>\n",
       "      <td>Difference (churn - not_churn) =</td>\n",
       "      <td>44.1964</td>\n",
       "    </tr>\n",
       "    <tr>\n",
       "      <th>1</th>\n",
       "      <td>Degrees of freedom =</td>\n",
       "      <td>39965.0000</td>\n",
       "    </tr>\n",
       "    <tr>\n",
       "      <th>2</th>\n",
       "      <td>t =</td>\n",
       "      <td>157.5273</td>\n",
       "    </tr>\n",
       "    <tr>\n",
       "      <th>3</th>\n",
       "      <td>Two side test p value =</td>\n",
       "      <td>0.0000</td>\n",
       "    </tr>\n",
       "    <tr>\n",
       "      <th>4</th>\n",
       "      <td>Difference &lt; 0 p value =</td>\n",
       "      <td>1.0000</td>\n",
       "    </tr>\n",
       "    <tr>\n",
       "      <th>5</th>\n",
       "      <td>Difference &gt; 0 p value =</td>\n",
       "      <td>0.0000</td>\n",
       "    </tr>\n",
       "    <tr>\n",
       "      <th>6</th>\n",
       "      <td>Cohen's d =</td>\n",
       "      <td>1.5765</td>\n",
       "    </tr>\n",
       "    <tr>\n",
       "      <th>7</th>\n",
       "      <td>Hedge's g =</td>\n",
       "      <td>1.5764</td>\n",
       "    </tr>\n",
       "    <tr>\n",
       "      <th>8</th>\n",
       "      <td>Glass's delta =</td>\n",
       "      <td>1.7978</td>\n",
       "    </tr>\n",
       "    <tr>\n",
       "      <th>9</th>\n",
       "      <td>Pearson's r =</td>\n",
       "      <td>0.6189</td>\n",
       "    </tr>\n",
       "  </tbody>\n",
       "</table>\n",
       "</div>"
      ],
      "text/plain": [
       "                  Independent t-test     results\n",
       "0  Difference (churn - not_churn) =      44.1964\n",
       "1              Degrees of freedom =   39965.0000\n",
       "2                               t =     157.5273\n",
       "3           Two side test p value =       0.0000\n",
       "4          Difference < 0 p value =       1.0000\n",
       "5          Difference > 0 p value =       0.0000\n",
       "6                       Cohen's d =       1.5765\n",
       "7                       Hedge's g =       1.5764\n",
       "8                   Glass's delta =       1.7978\n",
       "9                     Pearson's r =       0.6189"
      ]
     },
     "execution_count": 10,
     "metadata": {},
     "output_type": "execute_result"
    }
   ],
   "source": [
    "results"
   ]
  },
  {
   "cell_type": "code",
   "execution_count": 11,
   "metadata": {
    "ExecuteTime": {
     "end_time": "2021-09-27T04:35:46.351424Z",
     "start_time": "2021-09-27T04:35:46.275421Z"
    }
   },
   "outputs": [
    {
     "name": "stdout",
     "output_type": "stream",
     "text": [
      "Ttest_indResult(statistic=157.3899635180336, pvalue=0.0)\n",
      "The test is statistically significant. There is a diffenece between the mean of two groups.\n"
     ]
    }
   ],
   "source": [
    "from scipy import stats\n",
    "\n",
    "churn0 = data.where(data.churn_flag== 0).dropna()['tot_bill']\n",
    "churn1 = data.where(data.churn_flag== 1).dropna()['tot_bill']\n",
    "print(stats.ttest_ind(churn1,churn0))\n",
    "print('The test is statistically significant. There is a diffenece between the mean of two groups.')"
   ]
  },
  {
   "cell_type": "markdown",
   "metadata": {},
   "source": [
    "# Fill out missing values if any, data preprocessing"
   ]
  },
  {
   "cell_type": "code",
   "execution_count": 12,
   "metadata": {
    "ExecuteTime": {
     "end_time": "2021-09-27T04:35:46.357428Z",
     "start_time": "2021-09-27T04:35:46.353409Z"
    }
   },
   "outputs": [],
   "source": [
    "numeric_transformer = Pipeline(steps=[\n",
    "    ('imputer', SimpleImputer(missing_values=np.nan, strategy='median')),\n",
    "])\n",
    "\n",
    "categorical_transformer = Pipeline(steps=[\n",
    "    ('imputer', SimpleImputer(missing_values=np.nan, strategy='most_frequent')),\n",
    "    ('onehot', OneHotEncoder(handle_unknown='ignore')),\n",
    "])\n",
    "\n",
    "preprocessor = ColumnTransformer(\n",
    "    transformers=[\n",
    "        ('num', numeric_transformer, numeric_features),\n",
    "        ('cat', categorical_transformer, categorical_features)\n",
    "    ]\n",
    ")"
   ]
  },
  {
   "cell_type": "markdown",
   "metadata": {},
   "source": [
    "# Split the dataset into training and validation sets"
   ]
  },
  {
   "cell_type": "code",
   "execution_count": 13,
   "metadata": {
    "ExecuteTime": {
     "end_time": "2021-09-27T04:35:46.393405Z",
     "start_time": "2021-09-27T04:35:46.360418Z"
    }
   },
   "outputs": [],
   "source": [
    "X = data.copy().drop(columns=[y_label])\n",
    "y = data[y_label]\n",
    "\n",
    "X_train, X_test, y_train, y_test = train_test_split(X, y, random_state=0)"
   ]
  },
  {
   "cell_type": "markdown",
   "metadata": {},
   "source": [
    "# Build a logistic regression model to predict “churn”"
   ]
  },
  {
   "cell_type": "code",
   "execution_count": 14,
   "metadata": {
    "ExecuteTime": {
     "end_time": "2021-09-27T04:35:46.398411Z",
     "start_time": "2021-09-27T04:35:46.395407Z"
    }
   },
   "outputs": [],
   "source": [
    "model_pipeline = Pipeline([\n",
    "     ('preprocessor', preprocessor),\n",
    "     ('clf', LogisticRegression(random_state=0))\n",
    "])\n"
   ]
  },
  {
   "cell_type": "code",
   "execution_count": 15,
   "metadata": {},
   "outputs": [
    {
     "name": "stdout",
     "output_type": "stream",
     "text": [
      "The accuracy score of the model on training set is  0.9318\n"
     ]
    }
   ],
   "source": [
    "model_pipeline.fit(X_train, y_train)\n",
    "pred = model_pipeline.predict(X_train)\n",
    "score = accuracy_score(y_train, pred)\n",
    "print(\"The accuracy score of the model on training set is \", f'{score:.4f}')"
   ]
  },
  {
   "cell_type": "code",
   "execution_count": 16,
   "metadata": {},
   "outputs": [
    {
     "name": "stdout",
     "output_type": "stream",
     "text": [
      "The accuracy score of the model on test set is  0.9309\n"
     ]
    }
   ],
   "source": [
    "test_pred = model_pipeline.predict(X_test)\n",
    "test_score = accuracy_score(y_test, test_pred)\n",
    "print(\"The accuracy score of the model on test set is \", test_score)"
   ]
  },
  {
   "cell_type": "markdown",
   "metadata": {},
   "source": [
    "# Conduct a K-fold cross validation"
   ]
  },
  {
   "cell_type": "code",
   "execution_count": 23,
   "metadata": {
    "ExecuteTime": {
     "end_time": "2021-09-27T04:35:49.757468Z",
     "start_time": "2021-09-27T04:35:46.400410Z"
    }
   },
   "outputs": [
    {
     "name": "stdout",
     "output_type": "stream",
     "text": [
      "accuracy  : 0.930\n",
      "precision : 0.950\n",
      "recall    : 0.923\n",
      "f1        : 0.926\n",
      "roc_auc   : 0.939\n"
     ]
    }
   ],
   "source": [
    "metrics = ['accuracy', 'precision', 'recall', 'f1', 'roc_auc']\n",
    "scores = cross_validate(model_pipeline, X, y, cv=5, scoring=(*metrics,))\n",
    "\n",
    "for metric in metrics: \n",
    "    print(f'{metric:10}:', f'{scores[f\"test_{metric}\"].mean():.3f}')\n"
   ]
  },
  {
   "cell_type": "markdown",
   "metadata": {},
   "source": [
    "# Interpret the result"
   ]
  },
  {
   "cell_type": "markdown",
   "metadata": {},
   "source": [
    "The model achieved 93% accuracy on both the training set and the test set. The model is not overfitting because the score of the training and test sets are close and the average accuracy score from cross validation is also high at 93\n",
    "%. The precision is at around 95% and the recall is at 92%. The F1 is at 92.6% and roc_auc is at 94%, suggesting that the logistic regression model actually fits the data quite well. However, ideally, we want to identify anyone who might choose to churn in the future and therefore we would prefer a higher recall than precision in this case. "
   ]
  },
  {
   "cell_type": "markdown",
   "metadata": {},
   "source": [
    "# Test model performance"
   ]
  },
  {
   "cell_type": "code",
   "execution_count": 18,
   "metadata": {
    "ExecuteTime": {
     "end_time": "2021-09-27T04:35:50.398471Z",
     "start_time": "2021-09-27T04:35:49.759462Z"
    }
   },
   "outputs": [
    {
     "data": {
      "text/plain": [
       "Pipeline(steps=[('preprocessor',\n",
       "                 ColumnTransformer(transformers=[('num',\n",
       "                                                  Pipeline(steps=[('imputer',\n",
       "                                                                   SimpleImputer(strategy='median'))]),\n",
       "                                                  ['age', 'num_cont',\n",
       "                                                   'tot_bill', 'tot_call',\n",
       "                                                   'tot_bal', 'tot_bytes',\n",
       "                                                   'tot_air', 'num_out',\n",
       "                                                   'google_bytes', 'google_air',\n",
       "                                                   'yahoo_bytes',\n",
       "                                                   'yahoo_air']),\n",
       "                                                 ('cat',\n",
       "                                                  Pipeline(steps=[('imputer',\n",
       "                                                                   SimpleImputer(strategy='most_frequent')),\n",
       "                                                                  ('onehot',\n",
       "                                                                   OneHotEncoder(handle_unknown='ignore'))]),\n",
       "                                                  ['gender', 'marrital',\n",
       "                                                   'fortune',\n",
       "                                                   'home_owner'])])),\n",
       "                ('clf', LogisticRegression(random_state=0))])"
      ]
     },
     "execution_count": 18,
     "metadata": {},
     "output_type": "execute_result"
    }
   ],
   "source": [
    "model_pipeline.fit(X_train, y_train)"
   ]
  },
  {
   "cell_type": "code",
   "execution_count": 19,
   "metadata": {
    "ExecuteTime": {
     "end_time": "2021-09-27T04:35:50.599475Z",
     "start_time": "2021-09-27T04:35:50.400462Z"
    }
   },
   "outputs": [
    {
     "data": {
      "text/plain": [
       "Text(0.5, 1.0, 'ROC curve')"
      ]
     },
     "execution_count": 19,
     "metadata": {},
     "output_type": "execute_result"
    },
    {
     "data": {
      "image/png": "[encoded data removed]",
      "text/plain": [
       "<Figure size 720x504 with 1 Axes>"
      ]
     },
     "metadata": {
      "needs_background": "light"
     },
     "output_type": "display_data"
    }
   ],
   "source": [
    "fig, ax = plt.subplots(figsize=(10, 7))\n",
    "plot_roc_curve(model_pipeline, X_test, y_test, ax=ax)\n",
    "plt.title('ROC curve')"
   ]
  },
  {
   "cell_type": "code",
   "execution_count": 20,
   "metadata": {
    "ExecuteTime": {
     "end_time": "2021-09-27T04:35:50.803465Z",
     "start_time": "2021-09-27T04:35:50.600472Z"
    }
   },
   "outputs": [
    {
     "data": {
      "text/plain": [
       "Text(0.5, 1.0, 'Precision-recall curve')"
      ]
     },
     "execution_count": 20,
     "metadata": {},
     "output_type": "execute_result"
    },
    {
     "data": {
      "image/png": "[encoded data removed]",
      "text/plain": [
       "<Figure size 720x504 with 1 Axes>"
      ]
     },
     "metadata": {
      "needs_background": "light"
     },
     "output_type": "display_data"
    }
   ],
   "source": [
    "fig, ax = plt.subplots(figsize=(10, 7))\n",
    "plot_precision_recall_curve(model_pipeline, X_test, y_test, ax=ax)\n",
    "plt.title('Precision-recall curve')"
   ]
  },
  {
   "cell_type": "markdown",
   "metadata": {},
   "source": [
    "# Data transformation can improve the performance"
   ]
  },
  {
   "cell_type": "markdown",
   "metadata": {},
   "source": []
  },
  {
   "cell_type": "code",
   "execution_count": 21,
   "metadata": {
    "ExecuteTime": {
     "end_time": "2021-09-27T04:35:50.809461Z",
     "start_time": "2021-09-27T04:35:50.804471Z"
    }
   },
   "outputs": [],
   "source": [
    "def run_model(model_pipleline):\n",
    "    metrics = ['accuracy', 'precision', 'recall', 'f1', 'roc_auc']\n",
    "    scores = cross_validate(model_pipeline, X, y, cv=5, scoring=(*metrics,))\n",
    "\n",
    "    for metric in metrics: \n",
    "        print(f'{metric:10}:', f'{scores[f\"test_{metric}\"].mean():.3f}')\n",
    "    \n",
    "    model_pipeline.fit(X_train, y_train)\n",
    "    \n",
    "    fig, ax = plt.subplots(figsize=(10, 7))\n",
    "    plot_roc_curve(model_pipeline, X_test, y_test, ax=ax)\n",
    "    plt.title('ROC curve')\n",
    "    \n",
    "    fig, ax = plt.subplots(figsize=(10, 7))\n",
    "    plot_precision_recall_curve(model_pipeline, X_test, y_test, ax=ax)\n",
    "    plt.title('Precision-recall curve')    "
   ]
  },
  {
   "cell_type": "code",
   "execution_count": 22,
   "metadata": {
    "ExecuteTime": {
     "end_time": "2021-09-27T04:35:55.098469Z",
     "start_time": "2021-09-27T04:35:50.811452Z"
    }
   },
   "outputs": [
    {
     "name": "stdout",
     "output_type": "stream",
     "text": [
      "accuracy  : 0.930\n",
      "precision : 0.950\n",
      "recall    : 0.923\n",
      "f1        : 0.926\n",
      "roc_auc   : 0.939\n"
     ]
    },
    {
     "data": {
      "image/png": "[encoded data removed]",
      "text/plain": [
       "<Figure size 720x504 with 1 Axes>"
      ]
     },
     "metadata": {
      "needs_background": "light"
     },
     "output_type": "display_data"
    },
    {
     "data": {
      "image/png": "[encoded data removed]",
      "text/plain": [
       "<Figure size 720x504 with 1 Axes>"
      ]
     },
     "metadata": {
      "needs_background": "light"
     },
     "output_type": "display_data"
    }
   ],
   "source": [
    "numeric_transformer = Pipeline(steps=[\n",
    "    ('imputer', SimpleImputer(missing_values=np.nan, strategy='median')),\n",
    "    ('scaler', StandardScaler()),\n",
    "    ('polyfeature', PolynomialFeatures(degree=2, interaction_only=True)),    \n",
    "])\n",
    "\n",
    "\n",
    "categorical_transformer = Pipeline(steps=[\n",
    "    ('imputer', SimpleImputer(missing_values=np.nan, strategy='constant', fill_value=\"Unkown\")),\n",
    "    ('onehot', OneHotEncoder(handle_unknown='ignore')),\n",
    "])\n",
    "\n",
    "preprocessor = ColumnTransformer(\n",
    "    transformers=[\n",
    "        ('num', numeric_transformer, numeric_features),\n",
    "        ('cat', categorical_transformer, categorical_features)\n",
    "    ]\n",
    ")\n",
    "\n",
    "model_pipeline_new = Pipeline([\n",
    "     ('preprocessor', preprocessor),\n",
    "     ('clf', LogisticRegression(random_state=0))\n",
    "])\n",
    "\n",
    "run_model(model_pipeline_new)"
   ]
  },
  {
   "cell_type": "markdown",
   "metadata": {},
   "source": [
    "As shown above, by changing the method of filling null values in categorical features from using the most frequent value to using a constant value \"Unknown\", the model's performance hardly improved, this may due to the already high score of the model, leaving limited space for improving."
   ]
  },
  {
   "cell_type": "markdown",
   "metadata": {},
   "source": [
    "# Summarize findings"
   ]
  },
  {
   "cell_type": "markdown",
   "metadata": {},
   "source": [
    "1. The data given has 40000 entries and 17 columns. There are 43 missing values in 'age', 33 missing values in 'tot_bill' and 28 missing values in 'fortune'.\n",
    "\n",
    "2. Numerical features including: ['age', 'num_cont', 'tot_bill', 'tot_call', 'tot_bal', 'tot_bytes', 'tot_air', 'num_out', 'google_bytes', 'google_air', 'yahoo_bytes', 'yahoo_air'];    Categorical features including ['gender', 'marrital', 'fortune', 'home_owner']. \n",
    "\n",
    "3. According to the histograms of \"age\" group by \"churn\", we found that people who churned appeared to be in a younger age group than those who did not churn.\n",
    "\n",
    "4. The t-test of \"tot_bill\" regarding \"churn\" suggests that there is significant difference in the mean of tot_bill between churn and not churn groups. The mean of total bill of people who churned is much higher than that of those who did not churn. \n",
    "\n",
    "5. The logistic regression model fits the data quite well and achieved high scores in accuracy, precision, recall, f1 and roc_auc. Data transformations like including polynomial numerical features and changing imputation method of fillna of categorical features may be able to slightly improve the performance of the model.\n",
    "\n"
   ]
  },
  {
   "cell_type": "code",
   "execution_count": null,
   "metadata": {},
   "outputs": [],
   "source": []
  }
 ],
 "metadata": {
  "kernelspec": {
   "display_name": "Python 3",
   "language": "python",
   "name": "python3"
  },
  "language_info": {
   "codemirror_mode": {
    "name": "ipython",
    "version": 3
   },
   "file_extension": ".py",
   "mimetype": "text/x-python",
   "name": "python",
   "nbconvert_exporter": "python",
   "pygments_lexer": "ipython3",
   "version": "3.8.5"
  },
  "toc": {
   "base_numbering": 1,
   "nav_menu": {},
   "number_sections": true,
   "sideBar": true,
   "skip_h1_title": false,
   "title_cell": "Table of Contents",
   "title_sidebar": "Contents",
   "toc_cell": false,
   "toc_position": {},
   "toc_section_display": true,
   "toc_window_display": false
  }
 },
 "nbformat": 4,
 "nbformat_minor": 4
}
